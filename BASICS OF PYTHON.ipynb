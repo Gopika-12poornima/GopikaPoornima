{
 "cells": [
  {
   "cell_type": "markdown",
   "id": "a80c3084",
   "metadata": {},
   "source": [
    "Write a Python program that checks whether a given number is prime or not. A prime number is a natural number greater than 1 that has no positive divisors other than 1 and itself"
   ]
  },
  {
   "cell_type": "code",
   "execution_count": 42,
   "id": "72386aa8",
   "metadata": {},
   "outputs": [
    {
     "name": "stdout",
     "output_type": "stream",
     "text": [
      "enter a number12\n",
      "12 is not a prime number\n"
     ]
    }
   ],
   "source": [
    "a=int(input(\"enter a number\"))\n",
    "if a>1 :\n",
    "    b=list(range(2,a))\n",
    "    for i in b:\n",
    "        if a%i==0:\n",
    "            print(a ,\"is not a prime number\")\n",
    "            break\n",
    "        else:\n",
    "                print(a,\"is a prime number\")\n",
    "                 \n",
    "        break   "
   ]
  },
  {
   "cell_type": "markdown",
   "id": "fd309181",
   "metadata": {},
   "source": [
    "Develop a Python program that generates two random numbers and asks the user to enter the product of these numbers. The program should then check if the user's answer is correct and display an appropriate message."
   ]
  },
  {
   "cell_type": "code",
   "execution_count": 43,
   "id": "8407736b",
   "metadata": {},
   "outputs": [],
   "source": [
    "import random"
   ]
  },
  {
   "cell_type": "code",
   "execution_count": 62,
   "id": "5c9ef26e",
   "metadata": {},
   "outputs": [
    {
     "name": "stdout",
     "output_type": "stream",
     "text": [
      "First Number: 4 Second Number: 1\n",
      "Enter the product of 2 numbers4\n",
      "4 Correct answer\n"
     ]
    }
   ],
   "source": [
    "a1=random.randint(1,10)\n",
    "a2=random.randint(1,10)\n",
    "product=a1*a2\n",
    "print(\"First Number:\",a1,\"Second Number:\",a2)\n",
    "input_user=int(input(\"Enter the product of 2 numbers\"))\n",
    "if product==input_user:\n",
    "    print(product,\"Correct answer\")\n",
    "else:\n",
    "     print(\"Wrong Answer and the correct answer is:\",product)"
   ]
  },
  {
   "cell_type": "markdown",
   "id": "f1f10a0b",
   "metadata": {},
   "source": [
    "Create a Python script that prints the squares of all even or odd numbers within the range of 100 to 200. Choose either even or odd numbers and document your choice in the code."
   ]
  },
  {
   "cell_type": "code",
   "execution_count": 81,
   "id": "b4568bb7",
   "metadata": {},
   "outputs": [
    {
     "name": "stdout",
     "output_type": "stream",
     "text": [
      "Square of the number:\n",
      "100=10000\n",
      "Square of the number:\n",
      "102=10404\n",
      "Square of the number:\n",
      "104=10816\n",
      "Square of the number:\n",
      "106=11236\n",
      "Square of the number:\n",
      "108=11664\n",
      "Square of the number:\n",
      "110=12100\n",
      "Square of the number:\n",
      "112=12544\n",
      "Square of the number:\n",
      "114=12996\n",
      "Square of the number:\n",
      "116=13456\n",
      "Square of the number:\n",
      "118=13924\n",
      "Square of the number:\n",
      "120=14400\n",
      "Square of the number:\n",
      "122=14884\n",
      "Square of the number:\n",
      "124=15376\n",
      "Square of the number:\n",
      "126=15876\n",
      "Square of the number:\n",
      "128=16384\n",
      "Square of the number:\n",
      "130=16900\n",
      "Square of the number:\n",
      "132=17424\n",
      "Square of the number:\n",
      "134=17956\n",
      "Square of the number:\n",
      "136=18496\n",
      "Square of the number:\n",
      "138=19044\n",
      "Square of the number:\n",
      "140=19600\n",
      "Square of the number:\n",
      "142=20164\n",
      "Square of the number:\n",
      "144=20736\n",
      "Square of the number:\n",
      "146=21316\n",
      "Square of the number:\n",
      "148=21904\n",
      "Square of the number:\n",
      "150=22500\n",
      "Square of the number:\n",
      "152=23104\n",
      "Square of the number:\n",
      "154=23716\n",
      "Square of the number:\n",
      "156=24336\n",
      "Square of the number:\n",
      "158=24964\n",
      "Square of the number:\n",
      "160=25600\n",
      "Square of the number:\n",
      "162=26244\n",
      "Square of the number:\n",
      "164=26896\n",
      "Square of the number:\n",
      "166=27556\n",
      "Square of the number:\n",
      "168=28224\n",
      "Square of the number:\n",
      "170=28900\n",
      "Square of the number:\n",
      "172=29584\n",
      "Square of the number:\n",
      "174=30276\n",
      "Square of the number:\n",
      "176=30976\n",
      "Square of the number:\n",
      "178=31684\n",
      "Square of the number:\n",
      "180=32400\n",
      "Square of the number:\n",
      "182=33124\n",
      "Square of the number:\n",
      "184=33856\n",
      "Square of the number:\n",
      "186=34596\n",
      "Square of the number:\n",
      "188=35344\n",
      "Square of the number:\n",
      "190=36100\n",
      "Square of the number:\n",
      "192=36864\n",
      "Square of the number:\n",
      "194=37636\n",
      "Square of the number:\n",
      "196=38416\n",
      "Square of the number:\n",
      "198=39204\n"
     ]
    }
   ],
   "source": [
    "for i in range(100,200):\n",
    "    if i%2==0:\n",
    "        square=i**2\n",
    "        print(\"Square of the number:\")\n",
    "        print(f\"{i}={square}\")  "
   ]
  },
  {
   "cell_type": "markdown",
   "id": "ac898d0a",
   "metadata": {},
   "source": [
    "write a program to count the number of words in a given text."
   ]
  },
  {
   "cell_type": "code",
   "execution_count": 89,
   "id": "50cfcb4d",
   "metadata": {},
   "outputs": [
    {
     "name": "stdout",
     "output_type": "stream",
     "text": [
      "Number of words in the text:5\n"
     ]
    },
    {
     "data": {
      "text/plain": [
       "5"
      ]
     },
     "execution_count": 89,
     "metadata": {},
     "output_type": "execute_result"
    }
   ],
   "source": [
    "def count_words(text):\n",
    "    words = text.split()\n",
    "    num_words=len(words)\n",
    "    return num_words\n",
    "text=\"ram and shiva are friends\"\n",
    "word_count=count_words(text)\n",
    "print(f\"Number of words in the text:{word_count}\")\n",
    "count_words(text)"
   ]
  },
  {
   "cell_type": "markdown",
   "id": "44597883",
   "metadata": {},
   "source": [
    "Write a Python function called is_palindrome that takes a string as input and returns True if the string is a palindrome, and False otherwise. A palindrome is a word, phrase, number, or other sequence of characters that reads the same forward and backward, ignoring spaces, punctuation, and capitalization."
   ]
  },
  {
   "cell_type": "code",
   "execution_count": 96,
   "id": "681601d6",
   "metadata": {},
   "outputs": [
    {
     "name": "stdout",
     "output_type": "stream",
     "text": [
      "Enter String:civic\n",
      "True\n"
     ]
    }
   ],
   "source": [
    "def is_palindrome(string):\n",
    "    if(string==string[::-1]):\n",
    "        return \"True\"\n",
    "    else:\n",
    "        return \"false\"\n",
    "string=input(\"Enter String:\")\n",
    "print(is_palindrome(string))"
   ]
  },
  {
   "cell_type": "code",
   "execution_count": null,
   "id": "20f25e07",
   "metadata": {},
   "outputs": [],
   "source": []
  }
 ],
 "metadata": {
  "kernelspec": {
   "display_name": "Python 3 (ipykernel)",
   "language": "python",
   "name": "python3"
  },
  "language_info": {
   "codemirror_mode": {
    "name": "ipython",
    "version": 3
   },
   "file_extension": ".py",
   "mimetype": "text/x-python",
   "name": "python",
   "nbconvert_exporter": "python",
   "pygments_lexer": "ipython3",
   "version": "3.11.5"
  }
 },
 "nbformat": 4,
 "nbformat_minor": 5
}
